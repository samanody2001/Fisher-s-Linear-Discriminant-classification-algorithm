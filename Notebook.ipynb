{
  "cells": [
    {
      "cell_type": "code",
      "execution_count": 23,
      "metadata": {
        "id": "MZXk52MNo73V"
      },
      "outputs": [],
      "source": [
        "import pandas as pd\n",
        "import numpy as np\n",
        "from PIL import Image\n",
        "from sklearn.metrics import confusion_matrix, ConfusionMatrixDisplay\n",
        "import pandas as pd\n",
        "import seaborn as sn\n",
        "import matplotlib.pyplot as plt\n",
        "from sklearn.metrics import accuracy_score"
      ]
    },
    {
      "cell_type": "code",
      "execution_count": 24,
      "metadata": {
        "id": "WKXEdD0fp1-C"
      },
      "outputs": [],
      "source": [
        "from zipfile import ZipFile\n",
        "file_name = '/content/Data.zip'\n",
        "with ZipFile(file_name, 'r') as zip:\n",
        "  zip.extractall()"
      ]
    },
    {
      "cell_type": "code",
      "execution_count": 25,
      "metadata": {
        "id": "-kck6rOVp1D5"
      },
      "outputs": [],
      "source": [
        "img_Train = np.ones([2400, 784])\n",
        "for i in range(2400): \n",
        "  path = '/content/Data/Train/' + str(i+1) + \".jpg\"\n",
        "  img = Image.open(path)\n",
        "  img_Train[i] = np.array(img).flatten()\n",
        "\n",
        "img_test = np.ones([200, 784])\n",
        "for i in range(200):\n",
        "  path = '/content/Data/Test/' + str(i+1) + \".jpg\"\n",
        "  img = Image.open(path)\n",
        "  img_test[i] = np.array(img).flatten()"
      ]
    },
    {
      "cell_type": "code",
      "execution_count": 26,
      "metadata": {
        "id": "rRmllSeIqElv"
      },
      "outputs": [],
      "source": [
        "def getClass(n, img):\n",
        "  arr = np.zeros([240, 784])\n",
        "  for j in range(240):\n",
        "    arr[j] = img[(n * 240)+j]\n",
        "  return arr"
      ]
    },
    {
      "cell_type": "code",
      "execution_count": 27,
      "metadata": {
        "id": "K0QXRaUoqHvg"
      },
      "outputs": [],
      "source": [
        "def getOtherClasses(n, train):\n",
        "  arr = []\n",
        "  for i in range(240):\n",
        "    arr.append((n * 240) + i)\n",
        "  im = np.delete(train, arr, axis = 0)\n",
        "  return im"
      ]
    },
    {
      "cell_type": "code",
      "execution_count": 28,
      "metadata": {
        "id": "naJCnxzHsXFA"
      },
      "outputs": [],
      "source": [
        "def getMean(arr):\n",
        "  sum = np.zeros([784])\n",
        "  for i in range(len(arr)):\n",
        "    sum += arr[i]\n",
        "  return sum / len(arr)"
      ]
    },
    {
      "cell_type": "code",
      "execution_count": 35,
      "metadata": {
        "id": "C3rznowDuTVF"
      },
      "outputs": [],
      "source": [
        "def fitWithNObias(img):\n",
        "  WT = []\n",
        "  noBias = np.zeros([200])\n",
        "  for i in range(10):\n",
        "    c1 = getClass(i, img)\n",
        "    c2 = getOtherClasses(i, img)\n",
        "    m1 = getMean(c1)\n",
        "    m2 = getMean(c2)\n",
        "    s1 = np.dot( np.transpose(np.subtract(c1, m1)), np.subtract(c1, m1) )\n",
        "    s2 = np.dot( np.transpose(np.subtract(c2, m2)), np.subtract(c2, m2) )\n",
        "    swInv = np.linalg.pinv(np.add(s1, s2))\n",
        "\n",
        "    w = np.dot((np.subtract(m2, m1)), (swInv))\n",
        "    wt = np.transpose(w)\n",
        "    WT.append(wt)\n",
        "\n",
        "  for i in range(200):\n",
        "    Pnobias = []\n",
        "    for j in range(10):\n",
        "      p = np.dot(img_test[i], WT[j])\n",
        "      Pnobias.append(p)\n",
        "    min1 = np.amin(Pnobias)\n",
        "    index1 = np.where(Pnobias == min1)\n",
        "    noBias[i] = index1[0][0]\n",
        "  return(noBias)"
      ]
    },
    {
      "cell_type": "code",
      "execution_count": 47,
      "metadata": {
        "id": "-C0XHha-2mI_"
      },
      "outputs": [],
      "source": [
        "def fitWithBias(img):\n",
        "  W0 = []\n",
        "  WT = []\n",
        "  Bias = np.zeros([200])\n",
        "  for i in range(10):\n",
        "    c1 = getClass(i, img)\n",
        "    c2 = getOtherClasses(i, img)\n",
        "    m1 = getMean(c1)\n",
        "    m2 = getMean(c2)\n",
        "    s1 = np.dot( np.transpose(np.subtract(c1, m1)), np.subtract(c1, m1) )\n",
        "    s2 = np.dot( np.transpose(np.subtract(c2, m2)), np.subtract(c2, m2) )\n",
        "    swInv = np.linalg.pinv(np.add(s1, s2))\n",
        "\n",
        "    w = np.dot((np.subtract(m2, m1)), (swInv))\n",
        "    wt = np.transpose(w)\n",
        "    WT.append(wt)\n",
        "    w0 = (-1/2) * np.dot((np.add(m1, m2)), wt)\n",
        "    W0.append(w0)\n",
        "\n",
        "  for i in range(200):\n",
        "    Pbias = []\n",
        "    for j in range(10):\n",
        "      p = np.dot(img_test[i], WT[j])\n",
        "      Pbias.append( np.add(p, W0[j]) )\n",
        "    min2 = np.amin(Pbias)\n",
        "    index2 = np.where(Pbias == min2)\n",
        "    Bias[i] = index2[0][0]\n",
        "  return(Bias)"
      ]
    },
    {
      "cell_type": "code",
      "execution_count": 46,
      "metadata": {
        "colab": {
          "base_uri": "https://localhost:8080/",
          "height": 432
        },
        "id": "kPH1Y_0Z83LW",
        "outputId": "e997149b-f5cc-402d-e896-3be826d4589e"
      },
      "outputs": [
        {
          "data": {
            "image/png": "[encoded data removed]",
            "text/plain": [
              "<Figure size 720x504 with 2 Axes>"
            ]
          },
          "metadata": {
            "needs_background": "light"
          },
          "output_type": "display_data"
        }
      ],
      "source": [
        "test_Labels = np.genfromtxt(\"/content/Data/Test/Test Labels.txt\", delimiter = \",\")\n",
        "cfm = confusion_matrix(test_Labels, fitWithNObias(img_Train))\n",
        "classes = [\"0\", \"1\", \"2\",\"3\", \"4\", \"5\",\"6\", \"7\", \"8\", \"9\"]\n",
        "df_cfm = pd.DataFrame(cfm, index = classes, columns = classes)\n",
        "plt.figure(figsize = (10,7))\n",
        "cfm_plot = sn.heatmap(df_cfm, annot=True)\n",
        "cfm_plot.figure.savefig(\"ConfusionNoBias.jpg\")"
      ]
    },
    {
      "cell_type": "code",
      "execution_count": 48,
      "metadata": {
        "colab": {
          "base_uri": "https://localhost:8080/",
          "height": 432
        },
        "id": "PmOMNHwGAqVa",
        "outputId": "04f0d680-d14d-4833-e35a-9e50641ed903"
      },
      "outputs": [
        {
          "data": {
            "image/png": "[encoded data removed]",
            "text/plain": [
              "<Figure size 720x504 with 2 Axes>"
            ]
          },
          "metadata": {
            "needs_background": "light"
          },
          "output_type": "display_data"
        }
      ],
      "source": [
        "cfm = confusion_matrix(test_Labels, fitWithBias(img_Train))\n",
        "classes = [\"0\", \"1\", \"2\",\"3\", \"4\", \"5\",\"6\", \"7\", \"8\", \"9\"]\n",
        "df_cfm = pd.DataFrame(cfm, index = classes, columns = classes)\n",
        "plt.figure(figsize = (10,7))\n",
        "cfm_plot = sn.heatmap(df_cfm, annot=True)\n",
        "cfm_plot.figure.savefig(\"ConfusionWithBias.jpg\")"
      ]
    },
    {
      "cell_type": "code",
      "execution_count": 49,
      "metadata": {
        "colab": {
          "base_uri": "https://localhost:8080/"
        },
        "id": "zKCKoVwW42Ek",
        "outputId": "6e81f9c4-1184-44f4-8c19-7b4d7cb86a6d"
      },
      "outputs": [
        {
          "name": "stdout",
          "output_type": "stream",
          "text": [
            "without bias term = 77.0 %\n",
            "with bias term = 80.5 %\n"
          ]
        }
      ],
      "source": [
        "print('without bias term =', accuracy_score(fitWithNObias(img_Train),test_Labels)*100, '%')\n",
        "\n",
        "print('with bias term =', accuracy_score(fitWithBias(img_Train),test_Labels)*100, '%')"
      ]
    },
    {
      "attachments": {},
      "cell_type": "markdown",
      "metadata": {},
      "source": [
        "Yes bias term affected the accuracy as it increases the accuracy from 77% to 80.5%"
      ]
    }
  ],
  "metadata": {
    "colab": {
      "provenance": []
    },
    "kernelspec": {
      "display_name": "Python 3",
      "name": "python3"
    },
    "language_info": {
      "name": "python"
    }
  },
  "nbformat": 4,
  "nbformat_minor": 0
}
